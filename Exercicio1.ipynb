{
 "cells": [
  {
   "cell_type": "code",
   "execution_count": 14,
   "metadata": {},
   "outputs": [],
   "source": [
    "comida = 'Carne'"
   ]
  },
  {
   "cell_type": "code",
   "execution_count": 16,
   "metadata": {},
   "outputs": [
    {
     "name": "stdout",
     "output_type": "stream",
     "text": [
      "Sem comida\n"
     ]
    }
   ],
   "source": [
    "if comida == 'Pizza':\n",
    "   print ('Pizza')\n",
    "elif comida == 'Macarrão':\n",
    "   print ('Macarrão')\n",
    "elif comida == 'Melão':\n",
    "   print ('Melão')\n",
    "elif comida == 'Pão':\n",
    "   print ('Pão')\n",
    "else:\n",
    "   print ('Sem comida')"
   ]
  },
  {
   "cell_type": "code",
   "execution_count": 12,
   "metadata": {},
   "outputs": [
    {
     "name": "stdout",
     "output_type": "stream",
     "text": [
      "Qual a tabuada você precisa?8\n",
      "0 X 8 = 0\n",
      "1 X 8 = 8\n",
      "2 X 8 = 16\n",
      "3 X 8 = 24\n",
      "4 X 8 = 32\n",
      "5 X 8 = 40\n",
      "6 X 8 = 48\n",
      "7 X 8 = 56\n",
      "8 X 8 = 64\n",
      "9 X 8 = 72\n",
      "10 X 8 = 80\n"
     ]
    }
   ],
   "source": [
    "t = int(input('Qual a tabuada você precisa?'))\n",
    "for i in range(11):\n",
    "    num = t*i\n",
    "    print ('{0} X {1} = {2}'.format(i, t, num))"
   ]
  },
  {
   "cell_type": "code",
   "execution_count": 9,
   "metadata": {},
   "outputs": [
    {
     "name": "stdout",
     "output_type": "stream",
     "text": [
      "Tabuada de Multiplicação: 11\n",
      "11 X 1 = 11\n",
      "11 X 2 = 22\n",
      "11 X 3 = 33\n",
      "11 X 4 = 44\n",
      "11 X 5 = 55\n",
      "11 X 6 = 66\n",
      "11 X 7 = 77\n",
      "11 X 8 = 88\n",
      "11 X 9 = 99\n",
      "11 X 10 = 110\n"
     ]
    }
   ],
   "source": [
    "num = int(input(\"Tabuada de Multiplicação: \"))\n",
    "for i in range(10):\n",
    "    i += 1\n",
    "    r = num * i\n",
    "    print('{0} X {1} = {2}'.format(num, i, r))"
   ]
  },
  {
   "cell_type": "code",
   "execution_count": 16,
   "metadata": {},
   "outputs": [
    {
     "name": "stdout",
     "output_type": "stream",
     "text": [
      "2\n",
      "3\n",
      "4\n",
      "5\n",
      "6\n",
      "6\n"
     ]
    }
   ],
   "source": [
    "a = 0 \n",
    "for a in range(5):\n",
    "    a = a + 2\n",
    "    print (a)\n",
    "print(a)"
   ]
  },
  {
   "cell_type": "code",
   "execution_count": 21,
   "metadata": {},
   "outputs": [
    {
     "name": "stdout",
     "output_type": "stream",
     "text": [
      "Qual o número a ser fatorado?4\n",
      "4 ! = 24\n"
     ]
    }
   ],
   "source": [
    "soma = 1\n",
    "fator = int (input('Qual o número a ser fatorado?'))\n",
    "numero = fator\n",
    "while fator > 0:\n",
    "    soma = soma * fator\n",
    "    fator -= 1\n",
    "print(numero,'! =', soma)"
   ]
  },
  {
   "cell_type": "code",
   "execution_count": 24,
   "metadata": {},
   "outputs": [
    {
     "data": {
      "text/plain": [
       "2020"
      ]
     },
     "execution_count": 24,
     "metadata": {},
     "output_type": "execute_result"
    }
   ],
   "source": [
    "import datetime\n",
    "datetime.date.today().year"
   ]
  },
  {
   "cell_type": "code",
   "execution_count": 26,
   "metadata": {},
   "outputs": [
    {
     "data": {
      "text/plain": [
       "'2020-09-23'"
      ]
     },
     "execution_count": 26,
     "metadata": {},
     "output_type": "execute_result"
    }
   ],
   "source": [
    "from datetime import date\n",
    "date.isoformat(date.today())"
   ]
  },
  {
   "cell_type": "code",
   "execution_count": 3,
   "metadata": {},
   "outputs": [],
   "source": [
    "lista1 = [1, 2, 3]"
   ]
  },
  {
   "cell_type": "code",
   "execution_count": 4,
   "metadata": {},
   "outputs": [
    {
     "data": {
      "text/plain": [
       "list"
      ]
     },
     "execution_count": 4,
     "metadata": {},
     "output_type": "execute_result"
    }
   ],
   "source": [
    "type (lista1)"
   ]
  },
  {
   "cell_type": "code",
   "execution_count": 5,
   "metadata": {},
   "outputs": [],
   "source": [
    "lista2 = [[1, 2, 3],[4, 5, 6], [7, 8, 9]]"
   ]
  },
  {
   "cell_type": "code",
   "execution_count": null,
   "metadata": {},
   "outputs": [],
   "source": []
  }
 ],
 "metadata": {
  "kernelspec": {
   "display_name": "Python 3",
   "language": "python",
   "name": "python3"
  },
  "language_info": {
   "codemirror_mode": {
    "name": "ipython",
    "version": 3
   },
   "file_extension": ".py",
   "mimetype": "text/x-python",
   "name": "python",
   "nbconvert_exporter": "python",
   "pygments_lexer": "ipython3",
   "version": "3.8.3"
  }
 },
 "nbformat": 4,
 "nbformat_minor": 4
}
